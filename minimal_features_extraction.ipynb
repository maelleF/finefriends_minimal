{
 "cells": [
  {
   "cell_type": "code",
   "execution_count": 1,
   "id": "614ec4b6-0c90-4043-ab9b-34570b49427b",
   "metadata": {},
   "outputs": [],
   "source": [
    "import os, librosa\n",
    "import pandas as pd\n",
    "import numpy as np\n",
    "from matplotlib import pyplot as plt\n",
    "\n",
    "#extract embedding\n",
    "import torch\n",
    "from torch import Tensor\n",
    "from torchvision.models import feature_extraction\n",
    "from torch.utils.data import DataLoader\n",
    "\n",
    "#ridge regression\n",
    "from sklearn.metrics import r2_score\n",
    "from sklearn.linear_model import RidgeCV\n",
    "\n",
    "#functions from directory\n",
    "from models import soundnet_model as sm\n",
    "import encoding_utils as eu\n",
    "\n",
    "soundnet_param_path = 'models/sound8.pth'\n",
    "#audio, any sample rate are ok --> conversion with librosa to 22050Hz\n",
    "audio_dataset = 'dataset/audio'\n",
    "#processed fMRI output (parcellation, voxels, ...) in npz\n",
    "fMRI_dataset = 'dataset/fMRI'\n",
    "\n",
    "tr=1.49"
   ]
  },
  {
   "cell_type": "markdown",
   "id": "a9d23d16-297f-4b32-a1ed-2fdc3db1b27e",
   "metadata": {},
   "source": [
    "1 - Prepare your dataset"
   ]
  },
  {
   "cell_type": "code",
   "execution_count": 2,
   "id": "a96600d5-cd72-42ec-aebc-8b1361978a26",
   "metadata": {},
   "outputs": [],
   "source": [
    "#create pair of audio-fMRI --> input/output for training\n",
    "training_dataset = []\n",
    "for audio in os.listdir(audio_dataset):\n",
    "    audiopath = os.path.join(audio_dataset, audio)\n",
    "    \n",
    "    audioname = os.path.splitext(audio)[0]\n",
    "    stimuli = audioname[len('movie10_'):]\n",
    "    \n",
    "    for fMRI in os.listdir(fMRI_dataset):\n",
    "        if stimuli in fMRI:\n",
    "            fMRIpath = os.path.join(fMRI_dataset, fMRI)\n",
    "            wav, sr = librosa.load(audiopath, sr=22050)\n",
    "            fMRI_arr = np.load(fMRIpath)['X']\n",
    "            training_dataset.append((wav, fMRI_arr))\n",
    "\n",
    "#convert list of pair into a usable pytorch dataset (using a custom dataset class)\n",
    "test_dataset = eu.soundnet_dataset(training_dataset)\n",
    "test_dataset.convert_input_to_tensor()\n",
    "testloader = DataLoader(test_dataset)"
   ]
  },
  {
   "cell_type": "markdown",
   "id": "f516508b-6508-4036-a80b-af6a9ffbbeb3",
   "metadata": {},
   "source": [
    "2 - Prepare your network"
   ]
  },
  {
   "cell_type": "code",
   "execution_count": 3,
   "id": "789d3e3c-e3eb-4273-903c-df52b84afe8c",
   "metadata": {
    "scrolled": true
   },
   "outputs": [
    {
     "name": "stdout",
     "output_type": "stream",
     "text": [
      "<bound method Module.modules of SoundNet8_pytorch(\n",
      "  (conv1): Sequential(\n",
      "    (0): Conv2d(1, 16, kernel_size=(64, 1), stride=(2, 1), padding=(32, 0))\n",
      "    (1): BatchNorm2d(16, eps=1e-05, momentum=0.1, affine=True, track_running_stats=True)\n",
      "    (2): ReLU(inplace=True)\n",
      "  )\n",
      "  (pool1): MaxPool2d(kernel_size=(8, 1), stride=(8, 1), padding=0, dilation=1, ceil_mode=False)\n",
      "  (conv2): Sequential(\n",
      "    (0): Conv2d(16, 32, kernel_size=(32, 1), stride=(2, 1), padding=(16, 0))\n",
      "    (1): BatchNorm2d(32, eps=1e-05, momentum=0.1, affine=True, track_running_stats=True)\n",
      "    (2): ReLU(inplace=True)\n",
      "  )\n",
      "  (pool2): MaxPool2d(kernel_size=(8, 1), stride=(8, 1), padding=0, dilation=1, ceil_mode=False)\n",
      "  (conv3): Sequential(\n",
      "    (0): Conv2d(32, 64, kernel_size=(16, 1), stride=(2, 1), padding=(8, 0))\n",
      "    (1): BatchNorm2d(64, eps=1e-05, momentum=0.1, affine=True, track_running_stats=True)\n",
      "    (2): ReLU(inplace=True)\n",
      "  )\n",
      "  (conv4): Sequential(\n",
      "    (0): Conv2d(64, 128, kernel_size=(8, 1), stride=(2, 1), padding=(4, 0))\n",
      "    (1): BatchNorm2d(128, eps=1e-05, momentum=0.1, affine=True, track_running_stats=True)\n",
      "    (2): ReLU(inplace=True)\n",
      "  )\n",
      "  (conv5): Sequential(\n",
      "    (0): Conv2d(128, 256, kernel_size=(4, 1), stride=(2, 1), padding=(2, 0))\n",
      "    (1): BatchNorm2d(256, eps=1e-05, momentum=0.1, affine=True, track_running_stats=True)\n",
      "    (2): ReLU(inplace=True)\n",
      "  )\n",
      "  (pool5): MaxPool2d(kernel_size=(4, 1), stride=(4, 1), padding=0, dilation=1, ceil_mode=False)\n",
      "  (conv6): Sequential(\n",
      "    (0): Conv2d(256, 512, kernel_size=(4, 1), stride=(2, 1), padding=(2, 0))\n",
      "    (1): BatchNorm2d(512, eps=1e-05, momentum=0.1, affine=True, track_running_stats=True)\n",
      "    (2): ReLU(inplace=True)\n",
      "  )\n",
      "  (conv7): Sequential(\n",
      "    (0): Conv2d(512, 1024, kernel_size=(4, 1), stride=(2, 1), padding=(2, 0))\n",
      "    (1): BatchNorm2d(1024, eps=1e-05, momentum=0.1, affine=True, track_running_stats=True)\n",
      "    (2): ReLU(inplace=True)\n",
      "  )\n",
      "  (conv8): Sequential(\n",
      "    (0): Conv2d(1024, 1000, kernel_size=(8, 1), stride=(2, 1))\n",
      "  )\n",
      "  (conv8_2): Sequential(\n",
      "    (0): Conv2d(1024, 401, kernel_size=(8, 1), stride=(2, 1))\n",
      "  )\n",
      ")>\n",
      "['x', 'conv1.0', 'conv1.1', 'conv1.2', 'pool1', 'conv2.0', 'conv2.1', 'conv2.2', 'pool2', 'conv3.0', 'conv3.1', 'conv3.2', 'conv4.0', 'conv4.1', 'conv4.2', 'conv5.0', 'conv5.1', 'conv5.2', 'pool5', 'conv6.0', 'conv6.1', 'conv6.2', 'conv7.0', 'conv7.1', 'conv7.2', 'conv8.0', 'conv8_2.0']\n"
     ]
    }
   ],
   "source": [
    "#create your network\n",
    "soundnet = sm.SoundNet8_pytorch()\n",
    "\n",
    "#add parameters from previous training\n",
    "soundnet.load_state_dict(torch.load(soundnet_param_path))\n",
    "\n",
    "#look at your network architecture\n",
    "print(soundnet.modules)\n",
    "train_nodes, _ = feature_extraction.get_graph_node_names(soundnet) \n",
    "print(train_nodes)\n",
    "\n",
    "#transform your model in a version where you can access internal embeddings\n",
    "return_nodes = {'conv7.2':'conv7'}\n",
    "soundnet_feat = feature_extraction.create_feature_extractor(soundnet, return_nodes=return_nodes)"
   ]
  },
  {
   "cell_type": "markdown",
   "id": "e12c6b9d-76e4-4e9b-a340-7c8df78b90d6",
   "metadata": {},
   "source": [
    "3 - create embedding of the wav in dataset through SoundNet and extract embedding at layer 7"
   ]
  },
  {
   "cell_type": "code",
   "execution_count": 4,
   "id": "f0d12b4c-433c-439c-80ec-9ebe98b92304",
   "metadata": {},
   "outputs": [],
   "source": [
    "out_p = eu.test(testloader, net=soundnet_feat, return_nodes=return_nodes)"
   ]
  },
  {
   "cell_type": "markdown",
   "id": "a59eadbe-75c8-4575-8cfb-d94a6b8c7a4d",
   "metadata": {},
   "source": [
    "4 - conversion of embedding of SoundNet layer 7 to temporal resolution of fMRI (TO ADAPT: simple version working for TR=1.49s)"
   ]
  },
  {
   "cell_type": "code",
   "execution_count": 5,
   "id": "a962e37e-5c8c-4fc8-938a-5858ad17fe7c",
   "metadata": {},
   "outputs": [
    {
     "name": "stdout",
     "output_type": "stream",
     "text": [
      "(1024, 406) (406, 210) 406\n",
      "(1024, 410) (410, 210) 410\n",
      "(1024, 392) (392, 210) 392\n",
      "(1024, 406) (406, 210) 406\n",
      "(1024, 410) (410, 210) 410\n"
     ]
    }
   ],
   "source": [
    "converted_embedding, fMRI_output = [], []\n",
    "\n",
    "for embedding, output in out_p['conv7']:\n",
    "    embedding_arr = embedding.squeeze().numpy()\n",
    "    output_arr = output.squeeze().numpy()\n",
    "    nb_tr, nb_roi = output_arr.shape\n",
    "    embedding_arr = embedding_arr[:, :nb_tr]\n",
    "    converted_embedding.append(embedding_arr.T)\n",
    "    fMRI_output.append(output_arr)\n",
    "    print(embedding_arr.shape, output_arr.shape, nb_tr)\n",
    "\n",
    "Ridge_training_embedding = converted_embedding[:4]\n",
    "Ridge_training_output = fMRI_output[:4]\n",
    "Ridge_testing_embedding = converted_embedding[4]\n",
    "Ridge_testing_output = fMRI_output[4]"
   ]
  },
  {
   "cell_type": "markdown",
   "id": "0924809c-cf33-4b30-b5f0-c80435e79301",
   "metadata": {},
   "source": [
    "5 - training a ridge regression to learn fMRI features from soundnet features "
   ]
  },
  {
   "cell_type": "code",
   "execution_count": 6,
   "id": "79a2d895-dd61-4d52-af53-3589dbdba8a2",
   "metadata": {},
   "outputs": [
    {
     "name": "stdout",
     "output_type": "stream",
     "text": [
      "(1614, 1024) (1614, 210)\n"
     ]
    },
    {
     "data": {
      "text/html": [
       "<style>#sk-container-id-1 {color: black;}#sk-container-id-1 pre{padding: 0;}#sk-container-id-1 div.sk-toggleable {background-color: white;}#sk-container-id-1 label.sk-toggleable__label {cursor: pointer;display: block;width: 100%;margin-bottom: 0;padding: 0.3em;box-sizing: border-box;text-align: center;}#sk-container-id-1 label.sk-toggleable__label-arrow:before {content: \"▸\";float: left;margin-right: 0.25em;color: #696969;}#sk-container-id-1 label.sk-toggleable__label-arrow:hover:before {color: black;}#sk-container-id-1 div.sk-estimator:hover label.sk-toggleable__label-arrow:before {color: black;}#sk-container-id-1 div.sk-toggleable__content {max-height: 0;max-width: 0;overflow: hidden;text-align: left;background-color: #f0f8ff;}#sk-container-id-1 div.sk-toggleable__content pre {margin: 0.2em;color: black;border-radius: 0.25em;background-color: #f0f8ff;}#sk-container-id-1 input.sk-toggleable__control:checked~div.sk-toggleable__content {max-height: 200px;max-width: 100%;overflow: auto;}#sk-container-id-1 input.sk-toggleable__control:checked~label.sk-toggleable__label-arrow:before {content: \"▾\";}#sk-container-id-1 div.sk-estimator input.sk-toggleable__control:checked~label.sk-toggleable__label {background-color: #d4ebff;}#sk-container-id-1 div.sk-label input.sk-toggleable__control:checked~label.sk-toggleable__label {background-color: #d4ebff;}#sk-container-id-1 input.sk-hidden--visually {border: 0;clip: rect(1px 1px 1px 1px);clip: rect(1px, 1px, 1px, 1px);height: 1px;margin: -1px;overflow: hidden;padding: 0;position: absolute;width: 1px;}#sk-container-id-1 div.sk-estimator {font-family: monospace;background-color: #f0f8ff;border: 1px dotted black;border-radius: 0.25em;box-sizing: border-box;margin-bottom: 0.5em;}#sk-container-id-1 div.sk-estimator:hover {background-color: #d4ebff;}#sk-container-id-1 div.sk-parallel-item::after {content: \"\";width: 100%;border-bottom: 1px solid gray;flex-grow: 1;}#sk-container-id-1 div.sk-label:hover label.sk-toggleable__label {background-color: #d4ebff;}#sk-container-id-1 div.sk-serial::before {content: \"\";position: absolute;border-left: 1px solid gray;box-sizing: border-box;top: 0;bottom: 0;left: 50%;z-index: 0;}#sk-container-id-1 div.sk-serial {display: flex;flex-direction: column;align-items: center;background-color: white;padding-right: 0.2em;padding-left: 0.2em;position: relative;}#sk-container-id-1 div.sk-item {position: relative;z-index: 1;}#sk-container-id-1 div.sk-parallel {display: flex;align-items: stretch;justify-content: center;background-color: white;position: relative;}#sk-container-id-1 div.sk-item::before, #sk-container-id-1 div.sk-parallel-item::before {content: \"\";position: absolute;border-left: 1px solid gray;box-sizing: border-box;top: 0;bottom: 0;left: 50%;z-index: -1;}#sk-container-id-1 div.sk-parallel-item {display: flex;flex-direction: column;z-index: 1;position: relative;background-color: white;}#sk-container-id-1 div.sk-parallel-item:first-child::after {align-self: flex-end;width: 50%;}#sk-container-id-1 div.sk-parallel-item:last-child::after {align-self: flex-start;width: 50%;}#sk-container-id-1 div.sk-parallel-item:only-child::after {width: 0;}#sk-container-id-1 div.sk-dashed-wrapped {border: 1px dashed gray;margin: 0 0.4em 0.5em 0.4em;box-sizing: border-box;padding-bottom: 0.4em;background-color: white;}#sk-container-id-1 div.sk-label label {font-family: monospace;font-weight: bold;display: inline-block;line-height: 1.2em;}#sk-container-id-1 div.sk-label-container {text-align: center;}#sk-container-id-1 div.sk-container {/* jupyter's `normalize.less` sets `[hidden] { display: none; }` but bootstrap.min.css set `[hidden] { display: none !important; }` so we also need the `!important` here to be able to override the default hidden behavior on the sphinx rendered scikit-learn.org. See: https://github.com/scikit-learn/scikit-learn/issues/21755 */display: inline-block !important;position: relative;}#sk-container-id-1 div.sk-text-repr-fallback {display: none;}</style><div id=\"sk-container-id-1\" class=\"sk-top-container\"><div class=\"sk-text-repr-fallback\"><pre>RidgeCV()</pre><b>In a Jupyter environment, please rerun this cell to show the HTML representation or trust the notebook. <br />On GitHub, the HTML representation is unable to render, please try loading this page with nbviewer.org.</b></div><div class=\"sk-container\" hidden><div class=\"sk-item\"><div class=\"sk-estimator sk-toggleable\"><input class=\"sk-toggleable__control sk-hidden--visually\" id=\"sk-estimator-id-1\" type=\"checkbox\" checked><label for=\"sk-estimator-id-1\" class=\"sk-toggleable__label sk-toggleable__label-arrow\">RidgeCV</label><div class=\"sk-toggleable__content\"><pre>RidgeCV()</pre></div></div></div></div></div>"
      ],
      "text/plain": [
       "RidgeCV()"
      ]
     },
     "execution_count": 6,
     "metadata": {},
     "output_type": "execute_result"
    }
   ],
   "source": [
    "x = np.concatenate(Ridge_training_embedding, axis=0)\n",
    "y = np.concatenate(Ridge_training_output, axis=0)\n",
    "\n",
    "print(x.shape, y.shape)\n",
    "model = RidgeCV(\n",
    "        alphas=(0.1, 1.0, 10.0),\n",
    "        fit_intercept=True,\n",
    "        cv=None,\n",
    "        alpha_per_target=False)\n",
    "\n",
    "model.fit(x, y)"
   ]
  },
  {
   "cell_type": "markdown",
   "id": "cca72e0a-12b4-411e-a2be-52c95c9126d4",
   "metadata": {},
   "source": [
    "6 - testing the trained ridge on testing dataset"
   ]
  },
  {
   "cell_type": "code",
   "execution_count": 9,
   "id": "a2d9d261-8822-463d-b6bb-9e4bed882ea5",
   "metadata": {},
   "outputs": [
    {
     "name": "stdout",
     "output_type": "stream",
     "text": [
      "(410, 210) (410, 210)\n",
      "r2:  0.2715117274206007 , roi:  153\n"
     ]
    }
   ],
   "source": [
    "x_test = Ridge_testing_embedding\n",
    "y_test = Ridge_testing_output\n",
    "\n",
    "y_predict = model.predict(x_test)\n",
    "print(y_test.shape, y_predict.shape)\n",
    "r2 = r2_score(y_test, y_predict, multioutput='raw_values')\n",
    "print('r2: ', max(r2), ', roi: ', np.argmax(r2))"
   ]
  }
 ],
 "metadata": {
  "kernelspec": {
   "display_name": "Python 3 (ipykernel)",
   "language": "python",
   "name": "python3"
  },
  "language_info": {
   "codemirror_mode": {
    "name": "ipython",
    "version": 3
   },
   "file_extension": ".py",
   "mimetype": "text/x-python",
   "name": "python",
   "nbconvert_exporter": "python",
   "pygments_lexer": "ipython3",
   "version": "3.10.12"
  }
 },
 "nbformat": 4,
 "nbformat_minor": 5
}
