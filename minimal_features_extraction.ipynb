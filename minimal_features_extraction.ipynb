{
 "cells": [
  {
   "cell_type": "code",
   "execution_count": 1,
   "id": "614ec4b6-0c90-4043-ab9b-34570b49427b",
   "metadata": {},
   "outputs": [],
   "source": [
    "import os, librosa\n",
    "import pandas as pd\n",
    "import numpy as np\n",
    "from matplotlib import pyplot as plt\n",
    "\n",
    "#extract embedding\n",
    "import torch\n",
    "from torch import Tensor\n",
    "from torchvision.models import feature_extraction\n",
    "from torch.utils.data import DataLoader\n",
    "\n",
    "#functions from directory\n",
    "from models import soundnet_model as sm\n",
    "import encoding_utils as eu\n",
    "\n",
    "soundnet_param_path = 'models/sound8.pth'\n",
    "#audio, any sample rate are ok --> conversion with librosa to 22050Hz\n",
    "audio_dataset = 'dataset/audio'\n",
    "#processed fMRI output (parcellation, voxels, ...) in npz\n",
    "fMRI_dataset = 'dataset/fMRI'\n",
    "\n",
    "tr=1.49"
   ]
  },
  {
   "cell_type": "markdown",
   "id": "a9d23d16-297f-4b32-a1ed-2fdc3db1b27e",
   "metadata": {},
   "source": [
    "Prepare your dataset"
   ]
  },
  {
   "cell_type": "code",
   "execution_count": 2,
   "id": "a96600d5-cd72-42ec-aebc-8b1361978a26",
   "metadata": {},
   "outputs": [],
   "source": [
    "#create pair of audio-fMRI --> input/output for training\n",
    "training_dataset = []\n",
    "for audio in os.listdir(audio_dataset):\n",
    "    audiopath = os.path.join(audio_dataset, audio)\n",
    "    \n",
    "    audioname = os.path.splitext(audio)[0]\n",
    "    stimuli = audioname[len('movie10_'):]\n",
    "    \n",
    "    for fMRI in os.listdir(fMRI_dataset):\n",
    "        if stimuli in fMRI:\n",
    "            fMRIpath = os.path.join(fMRI_dataset, fMRI)\n",
    "            wav, sr = librosa.load(audiopath, sr=22050)\n",
    "            fMRI_arr = np.load(fMRIpath)['X']\n",
    "            training_dataset.append((wav, fMRI_arr))\n",
    "\n",
    "#convert list of pair into a usable pytorch dataset (using a custom dataset class)\n",
    "test_dataset = eu.soundnet_dataset(training_dataset)\n",
    "test_dataset.convert_input_to_tensor()\n",
    "testloader = DataLoader(test_dataset)"
   ]
  },
  {
   "cell_type": "markdown",
   "id": "f516508b-6508-4036-a80b-af6a9ffbbeb3",
   "metadata": {},
   "source": [
    "Prepare your network"
   ]
  },
  {
   "cell_type": "code",
   "execution_count": 3,
   "id": "789d3e3c-e3eb-4273-903c-df52b84afe8c",
   "metadata": {
    "scrolled": true
   },
   "outputs": [
    {
     "name": "stdout",
     "output_type": "stream",
     "text": [
      "<bound method Module.modules of SoundNet8_pytorch(\n",
      "  (conv1): Sequential(\n",
      "    (0): Conv2d(1, 16, kernel_size=(64, 1), stride=(2, 1), padding=(32, 0))\n",
      "    (1): BatchNorm2d(16, eps=1e-05, momentum=0.1, affine=True, track_running_stats=True)\n",
      "    (2): ReLU(inplace=True)\n",
      "  )\n",
      "  (pool1): MaxPool2d(kernel_size=(8, 1), stride=(8, 1), padding=0, dilation=1, ceil_mode=False)\n",
      "  (conv2): Sequential(\n",
      "    (0): Conv2d(16, 32, kernel_size=(32, 1), stride=(2, 1), padding=(16, 0))\n",
      "    (1): BatchNorm2d(32, eps=1e-05, momentum=0.1, affine=True, track_running_stats=True)\n",
      "    (2): ReLU(inplace=True)\n",
      "  )\n",
      "  (pool2): MaxPool2d(kernel_size=(8, 1), stride=(8, 1), padding=0, dilation=1, ceil_mode=False)\n",
      "  (conv3): Sequential(\n",
      "    (0): Conv2d(32, 64, kernel_size=(16, 1), stride=(2, 1), padding=(8, 0))\n",
      "    (1): BatchNorm2d(64, eps=1e-05, momentum=0.1, affine=True, track_running_stats=True)\n",
      "    (2): ReLU(inplace=True)\n",
      "  )\n",
      "  (conv4): Sequential(\n",
      "    (0): Conv2d(64, 128, kernel_size=(8, 1), stride=(2, 1), padding=(4, 0))\n",
      "    (1): BatchNorm2d(128, eps=1e-05, momentum=0.1, affine=True, track_running_stats=True)\n",
      "    (2): ReLU(inplace=True)\n",
      "  )\n",
      "  (conv5): Sequential(\n",
      "    (0): Conv2d(128, 256, kernel_size=(4, 1), stride=(2, 1), padding=(2, 0))\n",
      "    (1): BatchNorm2d(256, eps=1e-05, momentum=0.1, affine=True, track_running_stats=True)\n",
      "    (2): ReLU(inplace=True)\n",
      "  )\n",
      "  (pool5): MaxPool2d(kernel_size=(4, 1), stride=(4, 1), padding=0, dilation=1, ceil_mode=False)\n",
      "  (conv6): Sequential(\n",
      "    (0): Conv2d(256, 512, kernel_size=(4, 1), stride=(2, 1), padding=(2, 0))\n",
      "    (1): BatchNorm2d(512, eps=1e-05, momentum=0.1, affine=True, track_running_stats=True)\n",
      "    (2): ReLU(inplace=True)\n",
      "  )\n",
      "  (conv7): Sequential(\n",
      "    (0): Conv2d(512, 1024, kernel_size=(4, 1), stride=(2, 1), padding=(2, 0))\n",
      "    (1): BatchNorm2d(1024, eps=1e-05, momentum=0.1, affine=True, track_running_stats=True)\n",
      "    (2): ReLU(inplace=True)\n",
      "  )\n",
      "  (conv8): Sequential(\n",
      "    (0): Conv2d(1024, 1000, kernel_size=(8, 1), stride=(2, 1))\n",
      "  )\n",
      "  (conv8_2): Sequential(\n",
      "    (0): Conv2d(1024, 401, kernel_size=(8, 1), stride=(2, 1))\n",
      "  )\n",
      ")>\n",
      "['x', 'conv1.0', 'conv1.1', 'conv1.2', 'pool1', 'conv2.0', 'conv2.1', 'conv2.2', 'pool2', 'conv3.0', 'conv3.1', 'conv3.2', 'conv4.0', 'conv4.1', 'conv4.2', 'conv5.0', 'conv5.1', 'conv5.2', 'pool5', 'conv6.0', 'conv6.1', 'conv6.2', 'conv7.0', 'conv7.1', 'conv7.2', 'conv8.0', 'conv8_2.0']\n"
     ]
    }
   ],
   "source": [
    "#create your network\n",
    "soundnet = sm.SoundNet8_pytorch()\n",
    "\n",
    "#add parameters from previous training\n",
    "soundnet.load_state_dict(torch.load(soundnet_param_path))\n",
    "\n",
    "#look at your network architecture\n",
    "print(soundnet.modules)\n",
    "train_nodes, _ = feature_extraction.get_graph_node_names(soundnet) \n",
    "print(train_nodes)\n",
    "\n",
    "#transform your model in a version where you can access internal embeddings\n",
    "return_nodes = {'conv7.2':'conv7'}\n",
    "soundnet_feat = feature_extraction.create_feature_extractor(soundnet, return_nodes=return_nodes)"
   ]
  },
  {
   "cell_type": "markdown",
   "id": "a5170576-93c2-46fe-955a-70956b412b04",
   "metadata": {},
   "source": [
    "run wav input through the network without training"
   ]
  },
  {
   "cell_type": "code",
   "execution_count": 4,
   "id": "f0d12b4c-433c-439c-80ec-9ebe98b92304",
   "metadata": {},
   "outputs": [],
   "source": [
    "out_p = eu.test(testloader, net=soundnet_feat, return_nodes=return_nodes)"
   ]
  },
  {
   "cell_type": "code",
   "execution_count": 5,
   "id": "a962e37e-5c8c-4fc8-938a-5858ad17fe7c",
   "metadata": {},
   "outputs": [
    {
     "name": "stdout",
     "output_type": "stream",
     "text": [
      "5 5\n",
      "(410, 1024) (210, 406)\n",
      "(410, 1024) (210, 410)\n",
      "(393, 1024) (210, 392)\n",
      "(412, 1024) (210, 406)\n",
      "(410, 1024) (210, 410)\n"
     ]
    }
   ],
   "source": [
    "print(len(testloader), len(out_p['conv7']))\n",
    "\n",
    "for embedding, output in out_p['conv7']:\n",
    "    embedding_arr = embedding.squeeze().T.numpy()\n",
    "    output_arr = output.squeeze().T.numpy()\n",
    "\n",
    "    print(embedding_arr.shape, output_arr.shape)"
   ]
  }
 ],
 "metadata": {
  "kernelspec": {
   "display_name": "Python 3 (ipykernel)",
   "language": "python",
   "name": "python3"
  },
  "language_info": {
   "codemirror_mode": {
    "name": "ipython",
    "version": 3
   },
   "file_extension": ".py",
   "mimetype": "text/x-python",
   "name": "python",
   "nbconvert_exporter": "python",
   "pygments_lexer": "ipython3",
   "version": "3.10.12"
  }
 },
 "nbformat": 4,
 "nbformat_minor": 5
}
